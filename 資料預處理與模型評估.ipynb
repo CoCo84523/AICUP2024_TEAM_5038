{
 "cells": [
  {
   "cell_type": "markdown",
   "metadata": {},
   "source": [
    "# 圖片相似度檢查\n",
    "對原始資料集"
   ]
  },
  {
   "cell_type": "markdown",
   "metadata": {},
   "source": [
    "## 獲取jpg檔的路徑"
   ]
  },
  {
   "cell_type": "code",
   "execution_count": null,
   "metadata": {},
   "outputs": [],
   "source": [
    "import os\n",
    "import cv2, numpy as np\n",
    "import matplotlib.pyplot as plt\n",
    "from tqdm import tqdm\n",
    "\n",
    "def find_jpg_files(root_path):\n",
    "    jpg_files = []\n",
    "    for root, dirs, files in os.walk(root_path):\n",
    "        for file in files:\n",
    "            if file.lower().endswith('.jpg'):\n",
    "                jpg_files.append(os.path.join(root, file))\n",
    "    return jpg_files\n",
    "\n",
    "# 将要搜索的根路径\n",
    "root_path = r'train\\images-example'\n",
    "# 调用函数查找jpg文件\n",
    "jpg_files_list = find_jpg_files(root_path)\n",
    "\n",
    "# 打印结果\n",
    "for jpg_file in jpg_files_list:\n",
    "    print(jpg_file)\n"
   ]
  },
  {
   "cell_type": "markdown",
   "metadata": {},
   "source": [
    "## 均方根誤差(MSE)"
   ]
  },
  {
   "cell_type": "code",
   "execution_count": null,
   "metadata": {},
   "outputs": [],
   "source": [
    "def calculate_mse(image1, image2):\n",
    "    err = np.sum((image1.astype(\"float\") - image2.astype(\"float\")) ** 2)\n",
    "    err /= float(image1.shape[0] * image1.shape[1])\n",
    "    return err"
   ]
  },
  {
   "cell_type": "markdown",
   "metadata": {},
   "source": [
    "### 讀取jpg檔並計算兩者之間的MSE\n",
    "誤差小於500(從經驗所得)就把對象路徑放進list "
   ]
  },
  {
   "cell_type": "code",
   "execution_count": null,
   "metadata": {},
   "outputs": [],
   "source": [
    "k=0\n",
    "p=0\n",
    "smililar_imgpath=[]\n",
    "for i in tqdm(range(len(jpg_files_list))):\n",
    "    # print(jpg_files_list[k])\n",
    "    img1 = cv2.imread(jpg_files_list[k])\n",
    "    img2 = cv2.imread(jpg_files_list[p])\n",
    "    if p==k:\n",
    "        p+=1\n",
    "        continue\n",
    "    if calculate_mse(img1,img2)<500:\n",
    "        smililar_imgpath.append(jpg_files_list[p])\n",
    "        # print(f\"重複圖像的路徑為{jpg_files_list[p]},張數為{p}\")\n",
    "        p+=1\n",
    "        continue\n",
    "    else:\n",
    "        k=p"
   ]
  },
  {
   "cell_type": "markdown",
   "metadata": {},
   "source": [
    "### 透過儲存的對象路徑刪除對應的jpg檔"
   ]
  },
  {
   "cell_type": "code",
   "execution_count": null,
   "metadata": {},
   "outputs": [],
   "source": [
    "for i in smililar_imgpath:\n",
    "    os.remove(i)\n",
    "    print(i)"
   ]
  },
  {
   "cell_type": "markdown",
   "metadata": {},
   "source": [
    "### 刪除對象路徑所對應的txt"
   ]
  },
  {
   "cell_type": "code",
   "execution_count": null,
   "metadata": {},
   "outputs": [],
   "source": [
    "for i in smililar_imgpath:\n",
    "    filename = i.split(\".\")[0]\n",
    "    label_filename = filename.replace(\"images-example\",\"labels-example\")+\".txt\"\n",
    "    os.remove(label_filename)\n",
    "    print(label_filename)"
   ]
  },
  {
   "cell_type": "markdown",
   "metadata": {},
   "source": [
    "# 將處理完卡幀的資料集轉換為ReID資料集"
   ]
  },
  {
   "cell_type": "code",
   "execution_count": null,
   "metadata": {},
   "outputs": [],
   "source": [
    "%run fast_reid/datasets/generate_AICUP_patches.py"
   ]
  },
  {
   "cell_type": "markdown",
   "metadata": {},
   "source": [
    "# 將原始資料集轉換為YOLOv7資料集"
   ]
  },
  {
   "cell_type": "code",
   "execution_count": null,
   "metadata": {},
   "outputs": [],
   "source": [
    "%run yolov7/tools/AICUP_to_YOLOv7.py"
   ]
  },
  {
   "cell_type": "markdown",
   "metadata": {},
   "source": [
    "# 將原始資料集轉換為MOT15\n",
    "用於評估模型性能"
   ]
  },
  {
   "cell_type": "code",
   "execution_count": null,
   "metadata": {},
   "outputs": [],
   "source": [
    "%run tools/datasets/AICUP_to_MOT15.py"
   ]
  },
  {
   "cell_type": "markdown",
   "metadata": {},
   "source": [
    "# 對ReID資料集做圖片特徵強化(可選)"
   ]
  },
  {
   "cell_type": "markdown",
   "metadata": {},
   "source": [
    "## 獲取jpg檔的路徑(必須)"
   ]
  },
  {
   "cell_type": "code",
   "execution_count": null,
   "metadata": {},
   "outputs": [],
   "source": [
    "import os\n",
    "import cv2, numpy as np\n",
    "import matplotlib.pyplot as plt\n",
    "from tqdm import tqdm\n",
    "\n",
    "def find_jpg_files(root_path):\n",
    "    jpg_files = []\n",
    "    for root, dirs, files in os.walk(root_path):\n",
    "        for file in files:\n",
    "            if file.lower().endswith('.bmp') and (\"bounding_box_test\" not in root):\n",
    "                jpg_files.append(os.path.join(root, file))\n",
    "    return jpg_files\n",
    "\n",
    "# 将要搜索的根路径\n",
    "root_path = r\"fast_reid\\datasets\\AICUP-ReID_example\"\n",
    "# 调用函数查找jpg文件\n",
    "jpg_files_list = sorted(find_jpg_files(root_path))\n",
    "\n",
    "# 打印结果\n",
    "for jpg_file in jpg_files_list:\n",
    "    print(jpg_file)\n"
   ]
  },
  {
   "cell_type": "markdown",
   "metadata": {},
   "source": [
    "### 圖像增強函式(可選)"
   ]
  },
  {
   "cell_type": "code",
   "execution_count": null,
   "metadata": {},
   "outputs": [],
   "source": [
    "def img_Enhance(img):\n",
    "    hsv_image = cv2.cvtColor(img, cv2.COLOR_BGR2HSV)\n",
    "\n",
    "    # 分離明度通道\n",
    "    h, s, v = cv2.split(hsv_image)\n",
    "\n",
    "    # 對明度通道進行直方圖均衡化\n",
    "    equalized_v = cv2.equalizeHist(v)\n",
    "\n",
    "    # 合併均衡化後的明度通道和原始色相、飽和度通道\n",
    "    equalized_hsv_image = cv2.merge([h, s, equalized_v])\n",
    "\n",
    "    # 將圖像轉換回RGB色彩空間\n",
    "    enhanced_image = cv2.cvtColor(equalized_hsv_image, cv2.COLOR_HSV2BGR)\n",
    "    return enhanced_image"
   ]
  },
  {
   "cell_type": "markdown",
   "metadata": {},
   "source": [
    "### 基於Canny的輪廓加強(可選)"
   ]
  },
  {
   "cell_type": "code",
   "execution_count": null,
   "metadata": {},
   "outputs": [],
   "source": [
    "def canny_invert_add(image):\n",
    "    # 轉換為灰階影像\n",
    "    gray = cv2.cvtColor(image, cv2.COLOR_BGR2GRAY)\n",
    "\n",
    "    # 高斯模糊\n",
    "    blur = cv2.GaussianBlur(gray, (5, 5), 0)\n",
    "    \n",
    "    # 進行Canny邊緣檢測\n",
    "    edges = cv2.Canny(blur, 100, 200)\n",
    "\n",
    "    green_image = np.zeros_like(image)\n",
    "    green_image[:] = (0, 255, 0)  # 設置綠色像素值\n",
    "    \n",
    "    # 將原始影像中的邊緣部分替換為綠色像素\n",
    "    green_edges = cv2.bitwise_and(green_image, green_image, mask=edges)\n",
    "    \n",
    "    # 將綠色邊緣與原始影像合併\n",
    "    result = cv2.bitwise_or(image, green_edges)\n",
    "    return result\n"
   ]
  },
  {
   "cell_type": "markdown",
   "metadata": {},
   "source": [
    "### 先模糊再強化再Canny(可選)"
   ]
  },
  {
   "cell_type": "code",
   "execution_count": null,
   "metadata": {},
   "outputs": [],
   "source": [
    "def img_EnhanceAndCanny(image):\n",
    "    # 轉換為灰階影像\n",
    "    gray = cv2.cvtColor(image, cv2.COLOR_BGR2GRAY)\n",
    "    # 高斯模糊\n",
    "    blur = cv2.GaussianBlur(gray, (5, 5), 0)\n",
    "    # 對明度通道進行直方圖均衡化\n",
    "    equalized_img = cv2.equalizeHist(blur)\n",
    "    # 進行Canny邊緣檢測\n",
    "    edges = cv2.Canny(equalized_img, 100, 200)\n",
    "    # 設置綠色像素值\n",
    "    green_image = np.zeros_like(image)\n",
    "    green_image[:] = (0, 255, 0)  \n",
    "    # 將原始影像中的邊緣部分替換為綠色像素\n",
    "    green_edges = cv2.bitwise_and(green_image, green_image, mask=edges)\n",
    "    # 將綠色邊緣與原始影像合併\n",
    "    result = cv2.bitwise_or(image, green_edges)\n",
    "    return result"
   ]
  },
  {
   "cell_type": "markdown",
   "metadata": {},
   "source": [
    "### 圖像增強計算並儲存到對應的路徑(可選)"
   ]
  },
  {
   "cell_type": "code",
   "execution_count": null,
   "metadata": {},
   "outputs": [],
   "source": [
    "for i in tqdm(range(len(jpg_files_list))):\n",
    "    img = cv2.imread(jpg_files_list[i])\n",
    "    Enhanced_img = img_EnhanceAndCanny(img)\n",
    "    cv2.imwrite(jpg_files_list[i],Enhanced_img)"
   ]
  },
  {
   "cell_type": "markdown",
   "metadata": {},
   "source": [
    "# 刪除多餘的圖像\n",
    "讓單個類別的圖像數量最多為 5 張"
   ]
  },
  {
   "cell_type": "code",
   "execution_count": null,
   "metadata": {},
   "outputs": [],
   "source": [
    "import os\n",
    "\n",
    "cursor = None\n",
    "class_paths = {}\n",
    "class_frames = {}\n",
    "\n",
    "for jpg_file in jpg_files_list:\n",
    "    fname = os.path.basename(jpg_file)\n",
    "    cls, date, frame, _, _ = fname.split('_')\n",
    "\n",
    "    if cls != cursor:\n",
    "        if cursor is not None and len(class_paths[cursor]) > 5:\n",
    "            # 刪除多餘的圖像\n",
    "            sorted_paths = sorted(class_paths[cursor], key=lambda x: class_frames[cursor][x])\n",
    "            for path in sorted_paths[5:]:\n",
    "                os.remove(path)\n",
    "\n",
    "        class_paths[cls] = []\n",
    "        class_frames[cls] = {}\n",
    "        cursor = cls\n",
    "\n",
    "    class_paths[cls].append(jpg_file)\n",
    "    class_frames[cls][jpg_file] = int(frame)\n",
    "\n",
    "# 處理最後一個類別\n",
    "if cursor is not None and len(class_paths[cursor]) > 5:\n",
    "    sorted_paths = sorted(class_paths[cursor], key=lambda x: class_frames[cursor][x])\n",
    "    for path in sorted_paths[5:]:\n",
    "        os.remove(path)\n",
    "        print(path)\n"
   ]
  },
  {
   "cell_type": "markdown",
   "metadata": {},
   "source": [
    "# 執行評估\n",
    "這裡是把追蹤結果(txt)複製到目標路徑下的程式<br>\n",
    "可以透過更改path來改變目標路徑內的txt檔<br>\n",
    "不過如果要分別測train與test 要記得把目標路徑下的txt檔清除後再執行<br>\n",
    "要不然會通通混在一起"
   ]
  },
  {
   "cell_type": "code",
   "execution_count": null,
   "metadata": {},
   "outputs": [],
   "source": [
    "import os\n",
    "\n",
    "# 當前工作目錄\n",
    "path = r\"runs\\example\"\n",
    "# path = r\"runs\\test\"\n",
    "#可以透過更改這邊的兩個路徑去做選擇\n",
    "\n",
    "\n",
    "# 目標目錄\n",
    "target_directory = r\"Evaluation\\detection_MOT15\"  # 修改為您想要複製到的目標路徑\n",
    "if not os.path.exists(target_directory):\n",
    "    os.makedirs(target_directory)\n",
    "\n",
    "# 用來存儲所有的 .txt 檔案路徑\n",
    "txt_files = []\n",
    "\n",
    "# 遍歷當前目錄及其子目錄\n",
    "for root, dirs, files in os.walk(path):\n",
    "    for file in files:\n",
    "        # 檢查文件是否以 .txt 結尾\n",
    "        if file.endswith(\".txt\"):\n",
    "            # 構建文件的完整路徑並添加到列表中\n",
    "            file_path = os.path.join(root, file)\n",
    "            txt_files.append(file_path)\n",
    "\n",
    "# 將找到的所有 .txt 檔案複製到目標目錄\n",
    "for txt_file in txt_files:\n",
    "    # 構建目標檔案的路徑\n",
    "    target_file = os.path.join(target_directory, os.path.basename(txt_file))\n",
    "    # 開啟源檔案以進行讀取\n",
    "    with open(txt_file, 'rb') as source_file:\n",
    "        # 開啟目標檔案以進行寫入\n",
    "        with open(target_file, 'wb') as destination_file:\n",
    "            # 將源檔案的內容寫入目標檔案\n",
    "            destination_file.write(source_file.read())\n",
    "    # print(f\"已將 {txt_file} 複製到 {target_file}\")\n",
    "!python tools\\evaluate.py"
   ]
  }
